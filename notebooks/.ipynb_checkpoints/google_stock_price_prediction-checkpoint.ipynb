{
 "cells": [
  {
   "cell_type": "code",
   "execution_count": 2,
   "metadata": {
    "_cell_guid": "b1076dfc-b9ad-4769-8c92-a6c4dae69d19",
    "_uuid": "8f2839f25d086af736a60e9eeb907d3b93b6e0e5"
   },
   "outputs": [],
   "source": [
    "# This Python 3 environment comes with many helpful analytics libraries installed\n",
    "# It is defined by the kaggle/python docker image: https://github.com/kaggle/docker-python\n",
    "# For example, here's several helpful packages to load in \n",
    "import os\n",
    "import numpy as np # linear algebra\n",
    "import pandas as pd # data processing, CSV file I/O (e.g. pd.read_csv)\n",
    "import matplotlib.pyplot as plt\n",
    "\n",
    "\n",
    "from keras.models import Sequential\n",
    "from keras.layers import Dense\n",
    "from keras.layers import LSTM\n",
    "from keras.layers import Dropout\n",
    "\n",
    "from pathlib import PurePath\n",
    "from sklearn.preprocessing import MinMaxScaler\n",
    "% matplotlib inline\n",
    "bundle_root = os.environ.get('LABS_BUNDLE_ROOT', '/labs')\n",
    "\n",
    "# Input data files are available in the \"../input/\" directory.\n",
    "# For example, running this (by clicking run or pressing Shift+Enter) will list the files in the input directory\n",
    "\n",
    "# Any results you write to the current directory are saved as output."
   ]
  },
  {
   "cell_type": "code",
   "execution_count": 3,
   "metadata": {
    "_cell_guid": "79c7e3d0-c299-4dcb-8224-4455121ee9b0",
    "_uuid": "d629ff2d2480ee46fbb7e2d37f6b5fab8052498a"
   },
   "outputs": [],
   "source": [
    "dataset_train = pd.read_csv(PurePath(bundle_root, 'data/raw/trainset.csv'))"
   ]
  },
  {
   "cell_type": "code",
   "execution_count": 4,
   "metadata": {
    "_uuid": "9de88d689da1a279477470f6cef999c0a45bf98a"
   },
   "outputs": [
    {
     "data": {
      "text/html": [
       "<div>\n",
       "<style scoped>\n",
       "    .dataframe tbody tr th:only-of-type {\n",
       "        vertical-align: middle;\n",
       "    }\n",
       "\n",
       "    .dataframe tbody tr th {\n",
       "        vertical-align: top;\n",
       "    }\n",
       "\n",
       "    .dataframe thead th {\n",
       "        text-align: right;\n",
       "    }\n",
       "</style>\n",
       "<table border=\"1\" class=\"dataframe\">\n",
       "  <thead>\n",
       "    <tr style=\"text-align: right;\">\n",
       "      <th></th>\n",
       "      <th>Date</th>\n",
       "      <th>Open</th>\n",
       "      <th>High</th>\n",
       "      <th>Low</th>\n",
       "      <th>Close</th>\n",
       "      <th>Adj Close</th>\n",
       "      <th>Volume</th>\n",
       "    </tr>\n",
       "  </thead>\n",
       "  <tbody>\n",
       "    <tr>\n",
       "      <th>0</th>\n",
       "      <td>2013-01-02</td>\n",
       "      <td>357.385559</td>\n",
       "      <td>361.151062</td>\n",
       "      <td>355.959839</td>\n",
       "      <td>359.288177</td>\n",
       "      <td>359.288177</td>\n",
       "      <td>5115500</td>\n",
       "    </tr>\n",
       "    <tr>\n",
       "      <th>1</th>\n",
       "      <td>2013-01-03</td>\n",
       "      <td>360.122742</td>\n",
       "      <td>363.600128</td>\n",
       "      <td>358.031342</td>\n",
       "      <td>359.496826</td>\n",
       "      <td>359.496826</td>\n",
       "      <td>4666500</td>\n",
       "    </tr>\n",
       "    <tr>\n",
       "      <th>2</th>\n",
       "      <td>2013-01-04</td>\n",
       "      <td>362.313507</td>\n",
       "      <td>368.339294</td>\n",
       "      <td>361.488861</td>\n",
       "      <td>366.600616</td>\n",
       "      <td>366.600616</td>\n",
       "      <td>5562800</td>\n",
       "    </tr>\n",
       "    <tr>\n",
       "      <th>3</th>\n",
       "      <td>2013-01-07</td>\n",
       "      <td>365.348755</td>\n",
       "      <td>367.301056</td>\n",
       "      <td>362.929504</td>\n",
       "      <td>365.001007</td>\n",
       "      <td>365.001007</td>\n",
       "      <td>3332900</td>\n",
       "    </tr>\n",
       "    <tr>\n",
       "      <th>4</th>\n",
       "      <td>2013-01-08</td>\n",
       "      <td>365.393463</td>\n",
       "      <td>365.771027</td>\n",
       "      <td>359.874359</td>\n",
       "      <td>364.280701</td>\n",
       "      <td>364.280701</td>\n",
       "      <td>3373900</td>\n",
       "    </tr>\n",
       "  </tbody>\n",
       "</table>\n",
       "</div>"
      ],
      "text/plain": [
       "         Date        Open        High         Low       Close   Adj Close  \\\n",
       "0  2013-01-02  357.385559  361.151062  355.959839  359.288177  359.288177   \n",
       "1  2013-01-03  360.122742  363.600128  358.031342  359.496826  359.496826   \n",
       "2  2013-01-04  362.313507  368.339294  361.488861  366.600616  366.600616   \n",
       "3  2013-01-07  365.348755  367.301056  362.929504  365.001007  365.001007   \n",
       "4  2013-01-08  365.393463  365.771027  359.874359  364.280701  364.280701   \n",
       "\n",
       "    Volume  \n",
       "0  5115500  \n",
       "1  4666500  \n",
       "2  5562800  \n",
       "3  3332900  \n",
       "4  3373900  "
      ]
     },
     "execution_count": 4,
     "metadata": {},
     "output_type": "execute_result"
    }
   ],
   "source": [
    "dataset_train.head()"
   ]
  },
  {
   "cell_type": "code",
   "execution_count": 5,
   "metadata": {},
   "outputs": [],
   "source": [
    "trainset = dataset_train.iloc[:,1:2].values"
   ]
  },
  {
   "cell_type": "code",
   "execution_count": 6,
   "metadata": {
    "_uuid": "1abc6fe47fb5c4443767a2e2053cf9999c8a9a5c"
   },
   "outputs": [],
   "source": [
    "sc = MinMaxScaler(feature_range = (0,1))\n",
    "training_scaled = sc.fit_transform(trainset)"
   ]
  },
  {
   "cell_type": "code",
   "execution_count": 7,
   "metadata": {
    "_uuid": "15362ed79df83c13fbddff1889a71f21e968fbc2"
   },
   "outputs": [
    {
     "data": {
      "text/plain": [
       "array([[0.01011148],\n",
       "       [0.01388614],\n",
       "       [0.01690727],\n",
       "       ...,\n",
       "       [0.97543954],\n",
       "       [0.9674549 ],\n",
       "       [0.96072522]])"
      ]
     },
     "execution_count": 7,
     "metadata": {},
     "output_type": "execute_result"
    }
   ],
   "source": [
    "training_scaled"
   ]
  },
  {
   "cell_type": "code",
   "execution_count": 8,
   "metadata": {
    "_uuid": "d0d549e9a4af9ab516c3304fb44d650a815dcedc"
   },
   "outputs": [],
   "source": [
    "x_train = []\n",
    "y_train = []"
   ]
  },
  {
   "cell_type": "code",
   "execution_count": 9,
   "metadata": {
    "_uuid": "4c4f8ba0c635e7da0ba1bc52abf0a42068acdc89"
   },
   "outputs": [],
   "source": [
    "for i in range(60,1259):\n",
    "    x_train.append(training_scaled[i-60:i, 0])\n",
    "    y_train.append(training_scaled[i,0])\n",
    "x_train,y_train = np.array(x_train),np.array(y_train)"
   ]
  },
  {
   "cell_type": "code",
   "execution_count": 10,
   "metadata": {
    "_uuid": "360eb79902c77fbba3f16ab47a5ff7593a177478"
   },
   "outputs": [
    {
     "data": {
      "text/plain": [
       "(1199, 60)"
      ]
     },
     "execution_count": 10,
     "metadata": {},
     "output_type": "execute_result"
    }
   ],
   "source": [
    "x_train.shape"
   ]
  },
  {
   "cell_type": "code",
   "execution_count": 11,
   "metadata": {
    "_uuid": "316c5775b5c0a984b432f138792d2c0e9a484491"
   },
   "outputs": [],
   "source": [
    "x_train = np.reshape(x_train, (x_train.shape[0],x_train.shape[1],1))"
   ]
  },
  {
   "cell_type": "code",
   "execution_count": 13,
   "metadata": {
    "_uuid": "6681ff55d9a29b1ad0f37cdc82318fb2c8fbc0bd"
   },
   "outputs": [],
   "source": [
    "# define regressor\n",
    "regressor = Sequential()\n",
    "regressor.add(LSTM(units = 50,return_sequences = True,input_shape = (x_train.shape[1],1)))\n",
    "regressor.add(Dropout(0.2))\n",
    "regressor.add(LSTM(units = 50,return_sequences = True))\n",
    "regressor.add(Dropout(0.2))\n",
    "regressor.add(LSTM(units = 50,return_sequences = True))\n",
    "regressor.add(Dropout(0.2))\n",
    "regressor.add(LSTM(units = 50))\n",
    "regressor.add(Dropout(0.2))\n",
    "regressor.add(Dense(units = 1))\n",
    "regressor.compile(optimizer = 'adam',loss = 'mean_squared_error')"
   ]
  },
  {
   "cell_type": "code",
   "execution_count": 14,
   "metadata": {
    "_uuid": "b0287226b32109016b659a8ba484b5eb51e0d61a"
   },
   "outputs": [
    {
     "name": "stdout",
     "output_type": "stream",
     "text": [
      "Epoch 1/100\n",
      "1199/1199 [==============================] - 10s 8ms/step - loss: 0.0399\n",
      "Epoch 2/100\n",
      "1199/1199 [==============================] - 7s 6ms/step - loss: 0.0049\n",
      "Epoch 3/100\n",
      "1199/1199 [==============================] - 6s 5ms/step - loss: 0.0040\n",
      "Epoch 4/100\n",
      "1199/1199 [==============================] - 7s 6ms/step - loss: 0.0038\n",
      "Epoch 5/100\n",
      "1199/1199 [==============================] - 8s 7ms/step - loss: 0.0040\n",
      "Epoch 6/100\n",
      "1199/1199 [==============================] - 19s 16ms/step - loss: 0.0033\n",
      "Epoch 7/100\n",
      "1199/1199 [==============================] - 15s 12ms/step - loss: 0.0033\n",
      "Epoch 8/100\n",
      "1199/1199 [==============================] - 11s 9ms/step - loss: 0.0036\n",
      "Epoch 9/100\n",
      "1199/1199 [==============================] - 13s 11ms/step - loss: 0.0033\n",
      "Epoch 10/100\n",
      "1199/1199 [==============================] - 12s 10ms/step - loss: 0.0032\n",
      "Epoch 11/100\n",
      "1199/1199 [==============================] - 12s 10ms/step - loss: 0.0032\n",
      "Epoch 12/100\n",
      "1199/1199 [==============================] - 10s 9ms/step - loss: 0.0029\n",
      "Epoch 13/100\n",
      "1199/1199 [==============================] - 10s 8ms/step - loss: 0.0033\n",
      "Epoch 14/100\n",
      "1199/1199 [==============================] - 7s 6ms/step - loss: 0.0031\n",
      "Epoch 15/100\n",
      "1199/1199 [==============================] - 8s 7ms/step - loss: 0.0029\n",
      "Epoch 16/100\n",
      "1199/1199 [==============================] - 10s 8ms/step - loss: 0.0025\n",
      "Epoch 17/100\n",
      "1199/1199 [==============================] - 12s 10ms/step - loss: 0.0026\n",
      "Epoch 18/100\n",
      "1199/1199 [==============================] - 14s 12ms/step - loss: 0.0028\n",
      "Epoch 19/100\n",
      "1199/1199 [==============================] - 9s 8ms/step - loss: 0.0028\n",
      "Epoch 20/100\n",
      "1199/1199 [==============================] - 10s 8ms/step - loss: 0.0025\n",
      "Epoch 21/100\n",
      "1199/1199 [==============================] - 9s 7ms/step - loss: 0.0022\n",
      "Epoch 22/100\n",
      "1199/1199 [==============================] - 8s 7ms/step - loss: 0.0028\n",
      "Epoch 23/100\n",
      "1199/1199 [==============================] - 8s 7ms/step - loss: 0.0023\n",
      "Epoch 24/100\n",
      "1199/1199 [==============================] - 8s 7ms/step - loss: 0.0023\n",
      "Epoch 25/100\n",
      "1199/1199 [==============================] - 12s 10ms/step - loss: 0.0023\n",
      "Epoch 26/100\n",
      "1199/1199 [==============================] - 11s 9ms/step - loss: 0.0026\n",
      "Epoch 27/100\n",
      "1199/1199 [==============================] - 11s 9ms/step - loss: 0.0023\n",
      "Epoch 28/100\n",
      "1199/1199 [==============================] - 10s 8ms/step - loss: 0.0022\n",
      "Epoch 29/100\n",
      "1199/1199 [==============================] - 11s 10ms/step - loss: 0.0022\n",
      "Epoch 30/100\n",
      "1199/1199 [==============================] - 10s 8ms/step - loss: 0.0025\n",
      "Epoch 31/100\n",
      "1199/1199 [==============================] - 8s 7ms/step - loss: 0.0021\n",
      "Epoch 32/100\n",
      "1199/1199 [==============================] - 7s 6ms/step - loss: 0.0020\n",
      "Epoch 33/100\n",
      "1199/1199 [==============================] - 10s 9ms/step - loss: 0.0020\n",
      "Epoch 34/100\n",
      "1199/1199 [==============================] - 8s 7ms/step - loss: 0.0021\n",
      "Epoch 35/100\n",
      "1199/1199 [==============================] - 6s 5ms/step - loss: 0.0019\n",
      "Epoch 36/100\n",
      "1199/1199 [==============================] - 8s 7ms/step - loss: 0.0020\n",
      "Epoch 37/100\n",
      "1199/1199 [==============================] - 7s 6ms/step - loss: 0.0020\n",
      "Epoch 38/100\n",
      "1199/1199 [==============================] - 9s 8ms/step - loss: 0.0020\n",
      "Epoch 39/100\n",
      "1199/1199 [==============================] - 6s 5ms/step - loss: 0.0020\n",
      "Epoch 40/100\n",
      "1199/1199 [==============================] - 6s 5ms/step - loss: 0.0020\n",
      "Epoch 41/100\n",
      "1199/1199 [==============================] - 6s 5ms/step - loss: 0.0019\n",
      "Epoch 42/100\n",
      "1199/1199 [==============================] - 6s 5ms/step - loss: 0.0017\n",
      "Epoch 43/100\n",
      "1199/1199 [==============================] - 6s 5ms/step - loss: 0.0019\n",
      "Epoch 44/100\n",
      "1199/1199 [==============================] - 6s 5ms/step - loss: 0.0017\n",
      "Epoch 45/100\n",
      "1199/1199 [==============================] - 6s 5ms/step - loss: 0.0018\n",
      "Epoch 46/100\n",
      "1199/1199 [==============================] - 6s 5ms/step - loss: 0.0020\n",
      "Epoch 47/100\n",
      "1199/1199 [==============================] - 7s 5ms/step - loss: 0.0015\n",
      "Epoch 48/100\n",
      "1199/1199 [==============================] - 8s 6ms/step - loss: 0.0019\n",
      "Epoch 49/100\n",
      "1199/1199 [==============================] - 7s 6ms/step - loss: 0.0017\n",
      "Epoch 50/100\n",
      "1199/1199 [==============================] - 11s 9ms/step - loss: 0.0016\n",
      "Epoch 51/100\n",
      "1199/1199 [==============================] - 6s 5ms/step - loss: 0.0017\n",
      "Epoch 52/100\n",
      "1199/1199 [==============================] - 7s 5ms/step - loss: 0.0017\n",
      "Epoch 53/100\n",
      "1199/1199 [==============================] - 6s 5ms/step - loss: 0.0016\n",
      "Epoch 54/100\n",
      "1199/1199 [==============================] - 7s 5ms/step - loss: 0.0017\n",
      "Epoch 55/100\n",
      "1199/1199 [==============================] - 7s 6ms/step - loss: 0.0015\n",
      "Epoch 56/100\n",
      "1199/1199 [==============================] - 6s 5ms/step - loss: 0.0015\n",
      "Epoch 57/100\n",
      "1199/1199 [==============================] - 7s 5ms/step - loss: 0.0014\n",
      "Epoch 58/100\n",
      "1199/1199 [==============================] - 6s 5ms/step - loss: 0.0016\n",
      "Epoch 59/100\n",
      "1199/1199 [==============================] - 6s 5ms/step - loss: 0.0016\n",
      "Epoch 60/100\n",
      "1199/1199 [==============================] - 7s 6ms/step - loss: 0.0015\n",
      "Epoch 61/100\n",
      "1199/1199 [==============================] - 6s 5ms/step - loss: 0.0015\n",
      "Epoch 62/100\n",
      "1199/1199 [==============================] - 7s 5ms/step - loss: 0.0016\n",
      "Epoch 63/100\n",
      "1199/1199 [==============================] - 7s 5ms/step - loss: 0.0017\n",
      "Epoch 64/100\n",
      "1199/1199 [==============================] - 7s 6ms/step - loss: 0.0014\n",
      "Epoch 65/100\n",
      "1199/1199 [==============================] - 7s 6ms/step - loss: 0.0014\n",
      "Epoch 66/100\n",
      "1199/1199 [==============================] - 8s 6ms/step - loss: 0.0013\n",
      "Epoch 67/100\n",
      "1199/1199 [==============================] - 6s 5ms/step - loss: 0.0014\n",
      "Epoch 68/100\n",
      "1199/1199 [==============================] - 6s 5ms/step - loss: 0.0016\n",
      "Epoch 69/100\n",
      "1199/1199 [==============================] - 7s 6ms/step - loss: 0.0013\n",
      "Epoch 70/100\n",
      "1199/1199 [==============================] - 6s 5ms/step - loss: 0.0015\n",
      "Epoch 71/100\n",
      "1199/1199 [==============================] - 7s 6ms/step - loss: 0.0013\n",
      "Epoch 72/100\n",
      "1199/1199 [==============================] - 7s 6ms/step - loss: 0.0013\n",
      "Epoch 73/100\n",
      "1199/1199 [==============================] - 7s 5ms/step - loss: 0.0013\n",
      "Epoch 74/100\n",
      "1199/1199 [==============================] - 7s 6ms/step - loss: 0.0013\n",
      "Epoch 75/100\n",
      "1199/1199 [==============================] - 7s 6ms/step - loss: 0.0012\n",
      "Epoch 76/100\n",
      "1199/1199 [==============================] - 6s 5ms/step - loss: 0.0013\n",
      "Epoch 77/100\n",
      "1199/1199 [==============================] - 7s 6ms/step - loss: 0.0013\n",
      "Epoch 78/100\n",
      "1199/1199 [==============================] - 7s 6ms/step - loss: 0.0013\n",
      "Epoch 79/100\n",
      "1199/1199 [==============================] - 6s 5ms/step - loss: 0.0010\n",
      "Epoch 80/100\n",
      "1199/1199 [==============================] - 7s 6ms/step - loss: 0.0012\n",
      "Epoch 81/100\n",
      "1199/1199 [==============================] - 7s 6ms/step - loss: 0.0012\n",
      "Epoch 82/100\n",
      "1199/1199 [==============================] - 7s 5ms/step - loss: 0.0012\n",
      "Epoch 83/100\n",
      "1199/1199 [==============================] - 7s 6ms/step - loss: 0.0011\n",
      "Epoch 84/100\n",
      "1199/1199 [==============================] - 7s 5ms/step - loss: 0.0012\n",
      "Epoch 85/100\n",
      "1199/1199 [==============================] - 6s 5ms/step - loss: 0.0011\n",
      "Epoch 86/100\n",
      "1199/1199 [==============================] - 7s 6ms/step - loss: 0.0011\n",
      "Epoch 87/100\n",
      "1199/1199 [==============================] - 7s 6ms/step - loss: 0.0011\n",
      "Epoch 88/100\n",
      "1199/1199 [==============================] - 7s 5ms/step - loss: 0.0011\n",
      "Epoch 89/100\n",
      "1199/1199 [==============================] - 7s 6ms/step - loss: 9.5360e-04\n",
      "Epoch 90/100\n",
      "1199/1199 [==============================] - 7s 6ms/step - loss: 0.0011\n",
      "Epoch 91/100\n",
      "1199/1199 [==============================] - 7s 6ms/step - loss: 0.0010\n",
      "Epoch 92/100\n",
      "1199/1199 [==============================] - 7s 6ms/step - loss: 9.1717e-04\n",
      "Epoch 93/100\n",
      "1199/1199 [==============================] - 7s 5ms/step - loss: 0.0010\n",
      "Epoch 94/100\n",
      "1199/1199 [==============================] - 9s 8ms/step - loss: 0.0012\n",
      "Epoch 95/100\n",
      "1199/1199 [==============================] - 10s 9ms/step - loss: 0.0012\n",
      "Epoch 96/100\n",
      "1199/1199 [==============================] - 8s 7ms/step - loss: 0.0011\n",
      "Epoch 97/100\n",
      "1199/1199 [==============================] - 7s 6ms/step - loss: 0.0012\n",
      "Epoch 98/100\n",
      "1199/1199 [==============================] - 10s 8ms/step - loss: 8.7733e-04\n",
      "Epoch 99/100\n",
      "1199/1199 [==============================] - 13s 10ms/step - loss: 0.0011\n",
      "Epoch 100/100\n",
      "1199/1199 [==============================] - 17s 14ms/step - loss: 9.5896e-04\n"
     ]
    },
    {
     "data": {
      "text/plain": [
       "<keras.callbacks.History at 0x7fc370d09390>"
      ]
     },
     "execution_count": 14,
     "metadata": {},
     "output_type": "execute_result"
    }
   ],
   "source": [
    "%%capture\n",
    "regressor.fit(x_train,y_train,epochs = 100, batch_size = 32)"
   ]
  },
  {
   "cell_type": "code",
   "execution_count": 15,
   "metadata": {
    "_uuid": "16e063f81273faee696d9db103673ad2b88fda50"
   },
   "outputs": [],
   "source": [
    "dataset_test = pd.read_csv(PurePath(bundle_root, 'data/raw/testset.csv'))"
   ]
  },
  {
   "cell_type": "code",
   "execution_count": 16,
   "metadata": {
    "_uuid": "6acd6a66dc0f9c013ea008c0d99734697757cae6"
   },
   "outputs": [],
   "source": [
    "real_stock_price = dataset_test.iloc[:,1:2].values"
   ]
  },
  {
   "cell_type": "code",
   "execution_count": 17,
   "metadata": {
    "_uuid": "b65a0a5b78f98a5ac13dee98e9738fd61426bfd0"
   },
   "outputs": [
    {
     "data": {
      "text/plain": [
       "0    357.385559\n",
       "1    360.122742\n",
       "2    362.313507\n",
       "3    365.348755\n",
       "4    365.393463\n",
       "Name: Open, dtype: float64"
      ]
     },
     "execution_count": 17,
     "metadata": {},
     "output_type": "execute_result"
    }
   ],
   "source": [
    "dataset_total = pd.concat((dataset_train['Open'],dataset_test['Open']),axis = 0)\n",
    "dataset_total.head()"
   ]
  },
  {
   "cell_type": "code",
   "execution_count": 22,
   "metadata": {
    "_uuid": "b4003370fb6454d0493ef80b1b50ea34061de7bc"
   },
   "outputs": [
    {
     "data": {
      "text/plain": [
       "(185, 1)"
      ]
     },
     "execution_count": 22,
     "metadata": {},
     "output_type": "execute_result"
    }
   ],
   "source": [
    "inputs = dataset_total[len(dataset_total) - len(dataset_test)-60:].values\n",
    "inputs = inputs.reshape(-1,1)\n",
    "inputs = sc.transform(inputs)\n",
    "inputs.shape"
   ]
  },
  {
   "cell_type": "code",
   "execution_count": 23,
   "metadata": {
    "_uuid": "ef076f0fdbe6ec72d85e7326c3e8aa73fcbad667"
   },
   "outputs": [],
   "source": [
    "x_test = []\n",
    "for i in range(60,185):\n",
    "    x_test.append(inputs[i-60:i,0])"
   ]
  },
  {
   "cell_type": "code",
   "execution_count": 24,
   "metadata": {
    "_uuid": "1fa15b6bb87ff2da8a730a6e1de20d5e5baf1571"
   },
   "outputs": [
    {
     "data": {
      "text/plain": [
       "(125, 60)"
      ]
     },
     "execution_count": 24,
     "metadata": {},
     "output_type": "execute_result"
    }
   ],
   "source": [
    "x_test = np.array(x_test)\n",
    "x_test.shape"
   ]
  },
  {
   "cell_type": "code",
   "execution_count": 25,
   "metadata": {
    "_uuid": "b244d0115671f29d46d2cb290f92e6a0fe38bc1d"
   },
   "outputs": [
    {
     "data": {
      "text/plain": [
       "(125, 60, 1)"
      ]
     },
     "execution_count": 25,
     "metadata": {},
     "output_type": "execute_result"
    }
   ],
   "source": [
    "x_test = np.reshape(x_test, (x_test.shape[0],x_test.shape[1],1))\n",
    "x_test.shape"
   ]
  },
  {
   "cell_type": "code",
   "execution_count": 28,
   "metadata": {
    "_uuid": "4b06462fa06e7399373d8a552cd159176fbeef33"
   },
   "outputs": [],
   "source": [
    "predicted_price = regressor.predict(x_test)\n",
    "predicted_price = sc.inverse_transform(predicted_price)"
   ]
  },
  {
   "cell_type": "code",
   "execution_count": 29,
   "metadata": {
    "_uuid": "e8b30d578fafb1564da4448efb1f994537f6f588"
   },
   "outputs": [
    {
     "data": {
      "image/png": "[encoded data removed]",
      "text/plain": [
       "<matplotlib.figure.Figure at 0x7fc364c316a0>"
      ]
     },
     "metadata": {},
     "output_type": "display_data"
    }
   ],
   "source": [
    "plt.plot(real_stock_price,color = 'red', label = 'Real Price')\n",
    "plt.plot(predicted_price, color = 'blue', label = 'Predicted Price')\n",
    "plt.title('Google Stock Price Prediction')\n",
    "plt.xlabel('Time')\n",
    "plt.ylabel('Google Stock Price')\n",
    "plt.legend()\n",
    "plt.show()"
   ]
  }
 ],
 "metadata": {
  "kernelspec": {
   "display_name": "Python 3",
   "language": "python",
   "name": "python3"
  },
  "language_info": {
   "codemirror_mode": {
    "name": "ipython",
    "version": 3
   },
   "file_extension": ".py",
   "mimetype": "text/x-python",
   "name": "python",
   "nbconvert_exporter": "python",
   "pygments_lexer": "ipython3",
   "version": "3.6.3"
  }
 },
 "nbformat": 4,
 "nbformat_minor": 2
}
